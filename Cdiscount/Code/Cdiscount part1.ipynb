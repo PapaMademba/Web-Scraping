{
 "cells": [
  {
   "cell_type": "code",
   "execution_count": 1,
   "metadata": {},
   "outputs": [],
   "source": [
    "import pandas as pd\n",
    "import numpy as np\n",
    "import matplotlib.pyplot as plt\n",
    "import seaborn as sns\n",
    "%matplotlib inline\n",
    "from itertools import groupby"
   ]
  },
  {
   "cell_type": "code",
   "execution_count": 2,
   "metadata": {},
   "outputs": [],
   "source": [
    "from urllib.request import urlopen\n",
    "from bs4 import BeautifulSoup"
   ]
  },
  {
   "cell_type": "code",
   "execution_count": 3,
   "metadata": {},
   "outputs": [],
   "source": [
    "#url = \"https://www.deepl.com/fr/translator\"\n",
    "url = \"https://www.cdiscount.com/maison/lampes/lampadaires/l-1170232.html\"\n",
    "html = urlopen(url)\n",
    "soup = BeautifulSoup(html, 'html')"
   ]
  },
  {
   "cell_type": "markdown",
   "metadata": {},
   "source": [
    "# recupérer nb de pages max "
   ]
  },
  {
   "cell_type": "code",
   "execution_count": 4,
   "metadata": {},
   "outputs": [
    {
     "name": "stdout",
     "output_type": "stream",
     "text": [
      "[Page 1/111]\n",
      "111\n"
     ]
    }
   ],
   "source": [
    "pages = soup.select(\"span[class=pgActual]\")\n",
    "nb_str_pages = str(pages)\n",
    "clean_nb_pages = BeautifulSoup(nb_str_pages, \"html\").get_text()\n",
    "print(clean_nb_pages)\n",
    "\n",
    "l = [int(''.join(i)) for is_digit, i in groupby(clean_nb_pages, str.isdigit) if is_digit]\n",
    "nb_pages = l[1]\n",
    "print(nb_pages)"
   ]
  },
  {
   "cell_type": "markdown",
   "metadata": {},
   "source": [
    "# Trouver tous les liens des pages et les exporter "
   ]
  },
  {
   "cell_type": "code",
   "execution_count": 5,
   "metadata": {},
   "outputs": [
    {
     "name": "stdout",
     "output_type": "stream",
     "text": [
      "[<a class=\"btBlue jsNxtPage\" href=\"/maison/lampes/lampadaires/l-1170232-2.html\">Page suivante</a>]\n",
      "/maison/lampes/lampadaires/l-1170232-2.html\n",
      "([], [])\n",
      "['https://www.cdiscount.com/maison/lampes/lampadaires/l-1170232-1.html', 'https://www.cdiscount.com/maison/lampes/lampadaires/l-1170232-2.html', 'https://www.cdiscount.com/maison/lampes/lampadaires/l-1170232-3.html', 'https://www.cdiscount.com/maison/lampes/lampadaires/l-1170232-4.html', 'https://www.cdiscount.com/maison/lampes/lampadaires/l-1170232-5.html', 'https://www.cdiscount.com/maison/lampes/lampadaires/l-1170232-6.html', 'https://www.cdiscount.com/maison/lampes/lampadaires/l-1170232-7.html', 'https://www.cdiscount.com/maison/lampes/lampadaires/l-1170232-8.html', 'https://www.cdiscount.com/maison/lampes/lampadaires/l-1170232-9.html', 'https://www.cdiscount.com/maison/lampes/lampadaires/l-1170232-10.html', 'https://www.cdiscount.com/maison/lampes/lampadaires/l-1170232-11.html', 'https://www.cdiscount.com/maison/lampes/lampadaires/l-1170232-12.html', 'https://www.cdiscount.com/maison/lampes/lampadaires/l-1170232-13.html', 'https://www.cdiscount.com/maison/lampes/lampadaires/l-1170232-14.html', 'https://www.cdiscount.com/maison/lampes/lampadaires/l-1170232-15.html', 'https://www.cdiscount.com/maison/lampes/lampadaires/l-1170232-16.html', 'https://www.cdiscount.com/maison/lampes/lampadaires/l-1170232-17.html', 'https://www.cdiscount.com/maison/lampes/lampadaires/l-1170232-18.html', 'https://www.cdiscount.com/maison/lampes/lampadaires/l-1170232-19.html', 'https://www.cdiscount.com/maison/lampes/lampadaires/l-1170232-20.html', 'https://www.cdiscount.com/maison/lampes/lampadaires/l-1170232-21.html', 'https://www.cdiscount.com/maison/lampes/lampadaires/l-1170232-22.html', 'https://www.cdiscount.com/maison/lampes/lampadaires/l-1170232-23.html', 'https://www.cdiscount.com/maison/lampes/lampadaires/l-1170232-24.html', 'https://www.cdiscount.com/maison/lampes/lampadaires/l-1170232-25.html', 'https://www.cdiscount.com/maison/lampes/lampadaires/l-1170232-26.html', 'https://www.cdiscount.com/maison/lampes/lampadaires/l-1170232-27.html', 'https://www.cdiscount.com/maison/lampes/lampadaires/l-1170232-28.html', 'https://www.cdiscount.com/maison/lampes/lampadaires/l-1170232-29.html', 'https://www.cdiscount.com/maison/lampes/lampadaires/l-1170232-30.html', 'https://www.cdiscount.com/maison/lampes/lampadaires/l-1170232-31.html', 'https://www.cdiscount.com/maison/lampes/lampadaires/l-1170232-32.html', 'https://www.cdiscount.com/maison/lampes/lampadaires/l-1170232-33.html', 'https://www.cdiscount.com/maison/lampes/lampadaires/l-1170232-34.html', 'https://www.cdiscount.com/maison/lampes/lampadaires/l-1170232-35.html', 'https://www.cdiscount.com/maison/lampes/lampadaires/l-1170232-36.html', 'https://www.cdiscount.com/maison/lampes/lampadaires/l-1170232-37.html', 'https://www.cdiscount.com/maison/lampes/lampadaires/l-1170232-38.html', 'https://www.cdiscount.com/maison/lampes/lampadaires/l-1170232-39.html', 'https://www.cdiscount.com/maison/lampes/lampadaires/l-1170232-40.html', 'https://www.cdiscount.com/maison/lampes/lampadaires/l-1170232-41.html', 'https://www.cdiscount.com/maison/lampes/lampadaires/l-1170232-42.html', 'https://www.cdiscount.com/maison/lampes/lampadaires/l-1170232-43.html', 'https://www.cdiscount.com/maison/lampes/lampadaires/l-1170232-44.html', 'https://www.cdiscount.com/maison/lampes/lampadaires/l-1170232-45.html', 'https://www.cdiscount.com/maison/lampes/lampadaires/l-1170232-46.html', 'https://www.cdiscount.com/maison/lampes/lampadaires/l-1170232-47.html', 'https://www.cdiscount.com/maison/lampes/lampadaires/l-1170232-48.html', 'https://www.cdiscount.com/maison/lampes/lampadaires/l-1170232-49.html', 'https://www.cdiscount.com/maison/lampes/lampadaires/l-1170232-50.html', 'https://www.cdiscount.com/maison/lampes/lampadaires/l-1170232-51.html', 'https://www.cdiscount.com/maison/lampes/lampadaires/l-1170232-52.html', 'https://www.cdiscount.com/maison/lampes/lampadaires/l-1170232-53.html', 'https://www.cdiscount.com/maison/lampes/lampadaires/l-1170232-54.html', 'https://www.cdiscount.com/maison/lampes/lampadaires/l-1170232-55.html', 'https://www.cdiscount.com/maison/lampes/lampadaires/l-1170232-56.html', 'https://www.cdiscount.com/maison/lampes/lampadaires/l-1170232-57.html', 'https://www.cdiscount.com/maison/lampes/lampadaires/l-1170232-58.html', 'https://www.cdiscount.com/maison/lampes/lampadaires/l-1170232-59.html', 'https://www.cdiscount.com/maison/lampes/lampadaires/l-1170232-60.html', 'https://www.cdiscount.com/maison/lampes/lampadaires/l-1170232-61.html', 'https://www.cdiscount.com/maison/lampes/lampadaires/l-1170232-62.html', 'https://www.cdiscount.com/maison/lampes/lampadaires/l-1170232-63.html', 'https://www.cdiscount.com/maison/lampes/lampadaires/l-1170232-64.html', 'https://www.cdiscount.com/maison/lampes/lampadaires/l-1170232-65.html', 'https://www.cdiscount.com/maison/lampes/lampadaires/l-1170232-66.html', 'https://www.cdiscount.com/maison/lampes/lampadaires/l-1170232-67.html', 'https://www.cdiscount.com/maison/lampes/lampadaires/l-1170232-68.html', 'https://www.cdiscount.com/maison/lampes/lampadaires/l-1170232-69.html', 'https://www.cdiscount.com/maison/lampes/lampadaires/l-1170232-70.html', 'https://www.cdiscount.com/maison/lampes/lampadaires/l-1170232-71.html', 'https://www.cdiscount.com/maison/lampes/lampadaires/l-1170232-72.html', 'https://www.cdiscount.com/maison/lampes/lampadaires/l-1170232-73.html', 'https://www.cdiscount.com/maison/lampes/lampadaires/l-1170232-74.html', 'https://www.cdiscount.com/maison/lampes/lampadaires/l-1170232-75.html', 'https://www.cdiscount.com/maison/lampes/lampadaires/l-1170232-76.html', 'https://www.cdiscount.com/maison/lampes/lampadaires/l-1170232-77.html', 'https://www.cdiscount.com/maison/lampes/lampadaires/l-1170232-78.html', 'https://www.cdiscount.com/maison/lampes/lampadaires/l-1170232-79.html', 'https://www.cdiscount.com/maison/lampes/lampadaires/l-1170232-80.html', 'https://www.cdiscount.com/maison/lampes/lampadaires/l-1170232-81.html', 'https://www.cdiscount.com/maison/lampes/lampadaires/l-1170232-82.html', 'https://www.cdiscount.com/maison/lampes/lampadaires/l-1170232-83.html', 'https://www.cdiscount.com/maison/lampes/lampadaires/l-1170232-84.html', 'https://www.cdiscount.com/maison/lampes/lampadaires/l-1170232-85.html', 'https://www.cdiscount.com/maison/lampes/lampadaires/l-1170232-86.html', 'https://www.cdiscount.com/maison/lampes/lampadaires/l-1170232-87.html', 'https://www.cdiscount.com/maison/lampes/lampadaires/l-1170232-88.html', 'https://www.cdiscount.com/maison/lampes/lampadaires/l-1170232-89.html', 'https://www.cdiscount.com/maison/lampes/lampadaires/l-1170232-90.html', 'https://www.cdiscount.com/maison/lampes/lampadaires/l-1170232-91.html', 'https://www.cdiscount.com/maison/lampes/lampadaires/l-1170232-92.html', 'https://www.cdiscount.com/maison/lampes/lampadaires/l-1170232-93.html', 'https://www.cdiscount.com/maison/lampes/lampadaires/l-1170232-94.html', 'https://www.cdiscount.com/maison/lampes/lampadaires/l-1170232-95.html', 'https://www.cdiscount.com/maison/lampes/lampadaires/l-1170232-96.html', 'https://www.cdiscount.com/maison/lampes/lampadaires/l-1170232-97.html', 'https://www.cdiscount.com/maison/lampes/lampadaires/l-1170232-98.html', 'https://www.cdiscount.com/maison/lampes/lampadaires/l-1170232-99.html', 'https://www.cdiscount.com/maison/lampes/lampadaires/l-1170232-100.html', 'https://www.cdiscount.com/maison/lampes/lampadaires/l-1170232-101.html', 'https://www.cdiscount.com/maison/lampes/lampadaires/l-1170232-102.html', 'https://www.cdiscount.com/maison/lampes/lampadaires/l-1170232-103.html', 'https://www.cdiscount.com/maison/lampes/lampadaires/l-1170232-104.html', 'https://www.cdiscount.com/maison/lampes/lampadaires/l-1170232-105.html', 'https://www.cdiscount.com/maison/lampes/lampadaires/l-1170232-106.html', 'https://www.cdiscount.com/maison/lampes/lampadaires/l-1170232-107.html', 'https://www.cdiscount.com/maison/lampes/lampadaires/l-1170232-108.html', 'https://www.cdiscount.com/maison/lampes/lampadaires/l-1170232-109.html', 'https://www.cdiscount.com/maison/lampes/lampadaires/l-1170232-110.html', 'https://www.cdiscount.com/maison/lampes/lampadaires/l-1170232-111.html', 'https://www.cdiscount.com/maison/lampes/lampadaires/l-1170232-112.html', 'https://www.cdiscount.com/maison/lampes/lampadaires/l-1170232-113.html', 'https://www.cdiscount.com/maison/lampes/lampadaires/l-1170232-114.html', 'https://www.cdiscount.com/maison/lampes/lampadaires/l-1170232-115.html', 'https://www.cdiscount.com/maison/lampes/lampadaires/l-1170232-116.html', 'https://www.cdiscount.com/maison/lampes/lampadaires/l-1170232-117.html', 'https://www.cdiscount.com/maison/lampes/lampadaires/l-1170232-118.html', 'https://www.cdiscount.com/maison/lampes/lampadaires/l-1170232-119.html', 'https://www.cdiscount.com/maison/lampes/lampadaires/l-1170232-120.html', 'https://www.cdiscount.com/maison/lampes/lampadaires/l-1170232-121.html', 'https://www.cdiscount.com/maison/lampes/lampadaires/l-1170232-122.html', 'https://www.cdiscount.com/maison/lampes/lampadaires/l-1170232-123.html', 'https://www.cdiscount.com/maison/lampes/lampadaires/l-1170232-124.html', 'https://www.cdiscount.com/maison/lampes/lampadaires/l-1170232-125.html', 'https://www.cdiscount.com/maison/lampes/lampadaires/l-1170232-126.html', 'https://www.cdiscount.com/maison/lampes/lampadaires/l-1170232-127.html', 'https://www.cdiscount.com/maison/lampes/lampadaires/l-1170232-128.html', 'https://www.cdiscount.com/maison/lampes/lampadaires/l-1170232-129.html', 'https://www.cdiscount.com/maison/lampes/lampadaires/l-1170232-130.html', 'https://www.cdiscount.com/maison/lampes/lampadaires/l-1170232-131.html']\n",
      "131\n",
      "                                                 Liens\n",
      "0    https://www.cdiscount.com/maison/lampes/lampad...\n",
      "1    https://www.cdiscount.com/maison/lampes/lampad...\n",
      "2    https://www.cdiscount.com/maison/lampes/lampad...\n",
      "3    https://www.cdiscount.com/maison/lampes/lampad...\n",
      "4    https://www.cdiscount.com/maison/lampes/lampad...\n",
      "5    https://www.cdiscount.com/maison/lampes/lampad...\n",
      "6    https://www.cdiscount.com/maison/lampes/lampad...\n",
      "7    https://www.cdiscount.com/maison/lampes/lampad...\n",
      "8    https://www.cdiscount.com/maison/lampes/lampad...\n",
      "9    https://www.cdiscount.com/maison/lampes/lampad...\n",
      "10   https://www.cdiscount.com/maison/lampes/lampad...\n",
      "11   https://www.cdiscount.com/maison/lampes/lampad...\n",
      "12   https://www.cdiscount.com/maison/lampes/lampad...\n",
      "13   https://www.cdiscount.com/maison/lampes/lampad...\n",
      "14   https://www.cdiscount.com/maison/lampes/lampad...\n",
      "15   https://www.cdiscount.com/maison/lampes/lampad...\n",
      "16   https://www.cdiscount.com/maison/lampes/lampad...\n",
      "17   https://www.cdiscount.com/maison/lampes/lampad...\n",
      "18   https://www.cdiscount.com/maison/lampes/lampad...\n",
      "19   https://www.cdiscount.com/maison/lampes/lampad...\n",
      "20   https://www.cdiscount.com/maison/lampes/lampad...\n",
      "21   https://www.cdiscount.com/maison/lampes/lampad...\n",
      "22   https://www.cdiscount.com/maison/lampes/lampad...\n",
      "23   https://www.cdiscount.com/maison/lampes/lampad...\n",
      "24   https://www.cdiscount.com/maison/lampes/lampad...\n",
      "25   https://www.cdiscount.com/maison/lampes/lampad...\n",
      "26   https://www.cdiscount.com/maison/lampes/lampad...\n",
      "27   https://www.cdiscount.com/maison/lampes/lampad...\n",
      "28   https://www.cdiscount.com/maison/lampes/lampad...\n",
      "29   https://www.cdiscount.com/maison/lampes/lampad...\n",
      "..                                                 ...\n",
      "101  https://www.cdiscount.com/maison/lampes/lampad...\n",
      "102  https://www.cdiscount.com/maison/lampes/lampad...\n",
      "103  https://www.cdiscount.com/maison/lampes/lampad...\n",
      "104  https://www.cdiscount.com/maison/lampes/lampad...\n",
      "105  https://www.cdiscount.com/maison/lampes/lampad...\n",
      "106  https://www.cdiscount.com/maison/lampes/lampad...\n",
      "107  https://www.cdiscount.com/maison/lampes/lampad...\n",
      "108  https://www.cdiscount.com/maison/lampes/lampad...\n",
      "109  https://www.cdiscount.com/maison/lampes/lampad...\n",
      "110  https://www.cdiscount.com/maison/lampes/lampad...\n",
      "111  https://www.cdiscount.com/maison/lampes/lampad...\n",
      "112  https://www.cdiscount.com/maison/lampes/lampad...\n",
      "113  https://www.cdiscount.com/maison/lampes/lampad...\n",
      "114  https://www.cdiscount.com/maison/lampes/lampad...\n",
      "115  https://www.cdiscount.com/maison/lampes/lampad...\n",
      "116  https://www.cdiscount.com/maison/lampes/lampad...\n",
      "117  https://www.cdiscount.com/maison/lampes/lampad...\n",
      "118  https://www.cdiscount.com/maison/lampes/lampad...\n",
      "119  https://www.cdiscount.com/maison/lampes/lampad...\n",
      "120  https://www.cdiscount.com/maison/lampes/lampad...\n",
      "121  https://www.cdiscount.com/maison/lampes/lampad...\n",
      "122  https://www.cdiscount.com/maison/lampes/lampad...\n",
      "123  https://www.cdiscount.com/maison/lampes/lampad...\n",
      "124  https://www.cdiscount.com/maison/lampes/lampad...\n",
      "125  https://www.cdiscount.com/maison/lampes/lampad...\n",
      "126  https://www.cdiscount.com/maison/lampes/lampad...\n",
      "127  https://www.cdiscount.com/maison/lampes/lampad...\n",
      "128  https://www.cdiscount.com/maison/lampes/lampad...\n",
      "129  https://www.cdiscount.com/maison/lampes/lampad...\n",
      "130  https://www.cdiscount.com/maison/lampes/lampad...\n",
      "\n",
      "[131 rows x 1 columns]\n"
     ]
    }
   ],
   "source": [
    "#class=\"btBlue jsNxtPage\"\n",
    "tableau=[],[]\n",
    "liste_liens= []\n",
    "lien_page_suivante = soup.select(\"a[class=\\\"btBlue jsNxtPage\\\"]\")\n",
    "print(lien_page_suivante)\n",
    "for link in lien_page_suivante:\n",
    "    lien = link.get(\"href\")\n",
    "    print(lien)\n",
    "\n",
    "    \n",
    "print(tableau)\n",
    "\n",
    "\n",
    "lien = lien[0:37] + \"{}\" + lien[38:len(lien)]\n",
    "lien2 = \"https://www.cdiscount.com\" + lien\n",
    "\n",
    "\n",
    "for i in range(nb_pages+20):\n",
    "    lien_final = lien2.format(i+1)\n",
    "    liste_liens.append(lien_final)\n",
    "    tableau[0].append(liste_liens[i])\n",
    "print(tableau[0])\n",
    "    \n",
    "\n",
    "tab=np.array([tableau[0]])\n",
    "print(len(tableau[0]))\n",
    "df=pd.DataFrame(tab, index= ['Liens'])\n",
    "dft = pd.DataFrame.transpose(df)\n",
    "\n",
    "print(dft)\n",
    "export_csv = dft.to_csv(r'Liens_pages.csv', index=None)\n",
    "                    \n",
    "\n"
   ]
  },
  {
   "cell_type": "markdown",
   "metadata": {},
   "source": []
  },
  {
   "cell_type": "code",
   "execution_count": null,
   "metadata": {},
   "outputs": [],
   "source": []
  }
 ],
 "metadata": {
  "kernelspec": {
   "display_name": "Python 3",
   "language": "python",
   "name": "python3"
  },
  "language_info": {
   "codemirror_mode": {
    "name": "ipython",
    "version": 3
   },
   "file_extension": ".py",
   "mimetype": "text/x-python",
   "name": "python",
   "nbconvert_exporter": "python",
   "pygments_lexer": "ipython3",
   "version": "3.7.7"
  }
 },
 "nbformat": 4,
 "nbformat_minor": 4
}
