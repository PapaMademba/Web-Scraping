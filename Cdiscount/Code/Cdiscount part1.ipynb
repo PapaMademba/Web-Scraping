{
 "cells": [
  {
   "cell_type": "code",
   "execution_count": 1,
   "metadata": {},
   "outputs": [],
   "source": [
    "import pandas as pd\n",
    "import numpy as np\n",
    "import matplotlib.pyplot as plt\n",
    "import seaborn as sns\n",
    "%matplotlib inline\n",
    "from itertools import groupby"
   ]
  },
  {
   "cell_type": "code",
   "execution_count": 2,
   "metadata": {},
   "outputs": [],
   "source": [
    "from urllib.request import urlopen\n",
    "from bs4 import BeautifulSoup"
   ]
  },
  {
   "cell_type": "code",
   "execution_count": 3,
   "metadata": {},
   "outputs": [],
   "source": [
    "#url = \"https://www.deepl.com/fr/translator\"\n",
    "url = \"https://www.cdiscount.com/maison/lampes/spots/l-1170210.html\"\n",
    "html = urlopen(url)\n",
    "soup = BeautifulSoup(html, 'html')"
   ]
  },
  {
   "cell_type": "markdown",
   "metadata": {},
   "source": [
    "### <center> Recupérer le nombre de pages maximal"
   ]
  },
  {
   "cell_type": "code",
   "execution_count": 4,
   "metadata": {},
   "outputs": [
    {
     "name": "stdout",
     "output_type": "stream",
     "text": [
      "[Page 1/175]\n",
      "175\n"
     ]
    }
   ],
   "source": [
    "pages = soup.select(\"span[class=pgActual]\")\n",
    "nb_str_pages = str(pages)\n",
    "clean_nb_pages = BeautifulSoup(nb_str_pages, \"html\").get_text()\n",
    "print(clean_nb_pages)\n",
    "\n",
    "l = [int(''.join(i)) for is_digit, i in groupby(clean_nb_pages, str.isdigit) if is_digit]\n",
    "nb_pages = l[1]\n",
    "print(nb_pages)"
   ]
  },
  {
   "cell_type": "markdown",
   "metadata": {},
   "source": [
    "### <center> Trouver tous les liens des pages et les exporter "
   ]
  },
  {
   "cell_type": "code",
   "execution_count": 6,
   "metadata": {},
   "outputs": [
    {
     "name": "stdout",
     "output_type": "stream",
     "text": [
      "[<a class=\"btBlue jsNxtPage\" href=\"/maison/lampes/spots/l-1170210-2.html\">Page suivante</a>]\n",
      "/maison/lampes/spots/l-1170210-2.html\n",
      "([], [])\n",
      "['https://www.cdiscount.com/maison/lampes/spots/l-1170210-1.html', 'https://www.cdiscount.com/maison/lampes/spots/l-1170210-2.html', 'https://www.cdiscount.com/maison/lampes/spots/l-1170210-3.html', 'https://www.cdiscount.com/maison/lampes/spots/l-1170210-4.html', 'https://www.cdiscount.com/maison/lampes/spots/l-1170210-5.html', 'https://www.cdiscount.com/maison/lampes/spots/l-1170210-6.html', 'https://www.cdiscount.com/maison/lampes/spots/l-1170210-7.html', 'https://www.cdiscount.com/maison/lampes/spots/l-1170210-8.html', 'https://www.cdiscount.com/maison/lampes/spots/l-1170210-9.html', 'https://www.cdiscount.com/maison/lampes/spots/l-1170210-10.html', 'https://www.cdiscount.com/maison/lampes/spots/l-1170210-11.html', 'https://www.cdiscount.com/maison/lampes/spots/l-1170210-12.html', 'https://www.cdiscount.com/maison/lampes/spots/l-1170210-13.html', 'https://www.cdiscount.com/maison/lampes/spots/l-1170210-14.html', 'https://www.cdiscount.com/maison/lampes/spots/l-1170210-15.html', 'https://www.cdiscount.com/maison/lampes/spots/l-1170210-16.html', 'https://www.cdiscount.com/maison/lampes/spots/l-1170210-17.html', 'https://www.cdiscount.com/maison/lampes/spots/l-1170210-18.html', 'https://www.cdiscount.com/maison/lampes/spots/l-1170210-19.html', 'https://www.cdiscount.com/maison/lampes/spots/l-1170210-20.html', 'https://www.cdiscount.com/maison/lampes/spots/l-1170210-21.html', 'https://www.cdiscount.com/maison/lampes/spots/l-1170210-22.html', 'https://www.cdiscount.com/maison/lampes/spots/l-1170210-23.html', 'https://www.cdiscount.com/maison/lampes/spots/l-1170210-24.html', 'https://www.cdiscount.com/maison/lampes/spots/l-1170210-25.html', 'https://www.cdiscount.com/maison/lampes/spots/l-1170210-26.html', 'https://www.cdiscount.com/maison/lampes/spots/l-1170210-27.html', 'https://www.cdiscount.com/maison/lampes/spots/l-1170210-28.html', 'https://www.cdiscount.com/maison/lampes/spots/l-1170210-29.html', 'https://www.cdiscount.com/maison/lampes/spots/l-1170210-30.html', 'https://www.cdiscount.com/maison/lampes/spots/l-1170210-31.html', 'https://www.cdiscount.com/maison/lampes/spots/l-1170210-32.html', 'https://www.cdiscount.com/maison/lampes/spots/l-1170210-33.html', 'https://www.cdiscount.com/maison/lampes/spots/l-1170210-34.html', 'https://www.cdiscount.com/maison/lampes/spots/l-1170210-35.html', 'https://www.cdiscount.com/maison/lampes/spots/l-1170210-36.html', 'https://www.cdiscount.com/maison/lampes/spots/l-1170210-37.html', 'https://www.cdiscount.com/maison/lampes/spots/l-1170210-38.html', 'https://www.cdiscount.com/maison/lampes/spots/l-1170210-39.html', 'https://www.cdiscount.com/maison/lampes/spots/l-1170210-40.html', 'https://www.cdiscount.com/maison/lampes/spots/l-1170210-41.html', 'https://www.cdiscount.com/maison/lampes/spots/l-1170210-42.html', 'https://www.cdiscount.com/maison/lampes/spots/l-1170210-43.html', 'https://www.cdiscount.com/maison/lampes/spots/l-1170210-44.html', 'https://www.cdiscount.com/maison/lampes/spots/l-1170210-45.html', 'https://www.cdiscount.com/maison/lampes/spots/l-1170210-46.html', 'https://www.cdiscount.com/maison/lampes/spots/l-1170210-47.html', 'https://www.cdiscount.com/maison/lampes/spots/l-1170210-48.html', 'https://www.cdiscount.com/maison/lampes/spots/l-1170210-49.html', 'https://www.cdiscount.com/maison/lampes/spots/l-1170210-50.html', 'https://www.cdiscount.com/maison/lampes/spots/l-1170210-51.html', 'https://www.cdiscount.com/maison/lampes/spots/l-1170210-52.html', 'https://www.cdiscount.com/maison/lampes/spots/l-1170210-53.html', 'https://www.cdiscount.com/maison/lampes/spots/l-1170210-54.html', 'https://www.cdiscount.com/maison/lampes/spots/l-1170210-55.html', 'https://www.cdiscount.com/maison/lampes/spots/l-1170210-56.html', 'https://www.cdiscount.com/maison/lampes/spots/l-1170210-57.html', 'https://www.cdiscount.com/maison/lampes/spots/l-1170210-58.html', 'https://www.cdiscount.com/maison/lampes/spots/l-1170210-59.html', 'https://www.cdiscount.com/maison/lampes/spots/l-1170210-60.html', 'https://www.cdiscount.com/maison/lampes/spots/l-1170210-61.html', 'https://www.cdiscount.com/maison/lampes/spots/l-1170210-62.html', 'https://www.cdiscount.com/maison/lampes/spots/l-1170210-63.html', 'https://www.cdiscount.com/maison/lampes/spots/l-1170210-64.html', 'https://www.cdiscount.com/maison/lampes/spots/l-1170210-65.html', 'https://www.cdiscount.com/maison/lampes/spots/l-1170210-66.html', 'https://www.cdiscount.com/maison/lampes/spots/l-1170210-67.html', 'https://www.cdiscount.com/maison/lampes/spots/l-1170210-68.html', 'https://www.cdiscount.com/maison/lampes/spots/l-1170210-69.html', 'https://www.cdiscount.com/maison/lampes/spots/l-1170210-70.html', 'https://www.cdiscount.com/maison/lampes/spots/l-1170210-71.html', 'https://www.cdiscount.com/maison/lampes/spots/l-1170210-72.html', 'https://www.cdiscount.com/maison/lampes/spots/l-1170210-73.html', 'https://www.cdiscount.com/maison/lampes/spots/l-1170210-74.html', 'https://www.cdiscount.com/maison/lampes/spots/l-1170210-75.html', 'https://www.cdiscount.com/maison/lampes/spots/l-1170210-76.html', 'https://www.cdiscount.com/maison/lampes/spots/l-1170210-77.html', 'https://www.cdiscount.com/maison/lampes/spots/l-1170210-78.html', 'https://www.cdiscount.com/maison/lampes/spots/l-1170210-79.html', 'https://www.cdiscount.com/maison/lampes/spots/l-1170210-80.html', 'https://www.cdiscount.com/maison/lampes/spots/l-1170210-81.html', 'https://www.cdiscount.com/maison/lampes/spots/l-1170210-82.html', 'https://www.cdiscount.com/maison/lampes/spots/l-1170210-83.html', 'https://www.cdiscount.com/maison/lampes/spots/l-1170210-84.html', 'https://www.cdiscount.com/maison/lampes/spots/l-1170210-85.html', 'https://www.cdiscount.com/maison/lampes/spots/l-1170210-86.html', 'https://www.cdiscount.com/maison/lampes/spots/l-1170210-87.html', 'https://www.cdiscount.com/maison/lampes/spots/l-1170210-88.html', 'https://www.cdiscount.com/maison/lampes/spots/l-1170210-89.html', 'https://www.cdiscount.com/maison/lampes/spots/l-1170210-90.html', 'https://www.cdiscount.com/maison/lampes/spots/l-1170210-91.html', 'https://www.cdiscount.com/maison/lampes/spots/l-1170210-92.html', 'https://www.cdiscount.com/maison/lampes/spots/l-1170210-93.html', 'https://www.cdiscount.com/maison/lampes/spots/l-1170210-94.html', 'https://www.cdiscount.com/maison/lampes/spots/l-1170210-95.html', 'https://www.cdiscount.com/maison/lampes/spots/l-1170210-96.html', 'https://www.cdiscount.com/maison/lampes/spots/l-1170210-97.html', 'https://www.cdiscount.com/maison/lampes/spots/l-1170210-98.html', 'https://www.cdiscount.com/maison/lampes/spots/l-1170210-99.html', 'https://www.cdiscount.com/maison/lampes/spots/l-1170210-100.html', 'https://www.cdiscount.com/maison/lampes/spots/l-1170210-101.html', 'https://www.cdiscount.com/maison/lampes/spots/l-1170210-102.html', 'https://www.cdiscount.com/maison/lampes/spots/l-1170210-103.html', 'https://www.cdiscount.com/maison/lampes/spots/l-1170210-104.html', 'https://www.cdiscount.com/maison/lampes/spots/l-1170210-105.html', 'https://www.cdiscount.com/maison/lampes/spots/l-1170210-106.html', 'https://www.cdiscount.com/maison/lampes/spots/l-1170210-107.html', 'https://www.cdiscount.com/maison/lampes/spots/l-1170210-108.html', 'https://www.cdiscount.com/maison/lampes/spots/l-1170210-109.html', 'https://www.cdiscount.com/maison/lampes/spots/l-1170210-110.html', 'https://www.cdiscount.com/maison/lampes/spots/l-1170210-111.html', 'https://www.cdiscount.com/maison/lampes/spots/l-1170210-112.html', 'https://www.cdiscount.com/maison/lampes/spots/l-1170210-113.html', 'https://www.cdiscount.com/maison/lampes/spots/l-1170210-114.html', 'https://www.cdiscount.com/maison/lampes/spots/l-1170210-115.html', 'https://www.cdiscount.com/maison/lampes/spots/l-1170210-116.html', 'https://www.cdiscount.com/maison/lampes/spots/l-1170210-117.html', 'https://www.cdiscount.com/maison/lampes/spots/l-1170210-118.html', 'https://www.cdiscount.com/maison/lampes/spots/l-1170210-119.html', 'https://www.cdiscount.com/maison/lampes/spots/l-1170210-120.html', 'https://www.cdiscount.com/maison/lampes/spots/l-1170210-121.html', 'https://www.cdiscount.com/maison/lampes/spots/l-1170210-122.html', 'https://www.cdiscount.com/maison/lampes/spots/l-1170210-123.html', 'https://www.cdiscount.com/maison/lampes/spots/l-1170210-124.html', 'https://www.cdiscount.com/maison/lampes/spots/l-1170210-125.html', 'https://www.cdiscount.com/maison/lampes/spots/l-1170210-126.html', 'https://www.cdiscount.com/maison/lampes/spots/l-1170210-127.html', 'https://www.cdiscount.com/maison/lampes/spots/l-1170210-128.html', 'https://www.cdiscount.com/maison/lampes/spots/l-1170210-129.html', 'https://www.cdiscount.com/maison/lampes/spots/l-1170210-130.html', 'https://www.cdiscount.com/maison/lampes/spots/l-1170210-131.html', 'https://www.cdiscount.com/maison/lampes/spots/l-1170210-132.html', 'https://www.cdiscount.com/maison/lampes/spots/l-1170210-133.html', 'https://www.cdiscount.com/maison/lampes/spots/l-1170210-134.html', 'https://www.cdiscount.com/maison/lampes/spots/l-1170210-135.html', 'https://www.cdiscount.com/maison/lampes/spots/l-1170210-136.html', 'https://www.cdiscount.com/maison/lampes/spots/l-1170210-137.html', 'https://www.cdiscount.com/maison/lampes/spots/l-1170210-138.html', 'https://www.cdiscount.com/maison/lampes/spots/l-1170210-139.html', 'https://www.cdiscount.com/maison/lampes/spots/l-1170210-140.html', 'https://www.cdiscount.com/maison/lampes/spots/l-1170210-141.html', 'https://www.cdiscount.com/maison/lampes/spots/l-1170210-142.html', 'https://www.cdiscount.com/maison/lampes/spots/l-1170210-143.html', 'https://www.cdiscount.com/maison/lampes/spots/l-1170210-144.html', 'https://www.cdiscount.com/maison/lampes/spots/l-1170210-145.html', 'https://www.cdiscount.com/maison/lampes/spots/l-1170210-146.html', 'https://www.cdiscount.com/maison/lampes/spots/l-1170210-147.html', 'https://www.cdiscount.com/maison/lampes/spots/l-1170210-148.html', 'https://www.cdiscount.com/maison/lampes/spots/l-1170210-149.html', 'https://www.cdiscount.com/maison/lampes/spots/l-1170210-150.html', 'https://www.cdiscount.com/maison/lampes/spots/l-1170210-151.html', 'https://www.cdiscount.com/maison/lampes/spots/l-1170210-152.html', 'https://www.cdiscount.com/maison/lampes/spots/l-1170210-153.html', 'https://www.cdiscount.com/maison/lampes/spots/l-1170210-154.html', 'https://www.cdiscount.com/maison/lampes/spots/l-1170210-155.html', 'https://www.cdiscount.com/maison/lampes/spots/l-1170210-156.html', 'https://www.cdiscount.com/maison/lampes/spots/l-1170210-157.html', 'https://www.cdiscount.com/maison/lampes/spots/l-1170210-158.html', 'https://www.cdiscount.com/maison/lampes/spots/l-1170210-159.html', 'https://www.cdiscount.com/maison/lampes/spots/l-1170210-160.html', 'https://www.cdiscount.com/maison/lampes/spots/l-1170210-161.html', 'https://www.cdiscount.com/maison/lampes/spots/l-1170210-162.html', 'https://www.cdiscount.com/maison/lampes/spots/l-1170210-163.html', 'https://www.cdiscount.com/maison/lampes/spots/l-1170210-164.html', 'https://www.cdiscount.com/maison/lampes/spots/l-1170210-165.html', 'https://www.cdiscount.com/maison/lampes/spots/l-1170210-166.html', 'https://www.cdiscount.com/maison/lampes/spots/l-1170210-167.html', 'https://www.cdiscount.com/maison/lampes/spots/l-1170210-168.html', 'https://www.cdiscount.com/maison/lampes/spots/l-1170210-169.html', 'https://www.cdiscount.com/maison/lampes/spots/l-1170210-170.html', 'https://www.cdiscount.com/maison/lampes/spots/l-1170210-171.html', 'https://www.cdiscount.com/maison/lampes/spots/l-1170210-172.html', 'https://www.cdiscount.com/maison/lampes/spots/l-1170210-173.html', 'https://www.cdiscount.com/maison/lampes/spots/l-1170210-174.html', 'https://www.cdiscount.com/maison/lampes/spots/l-1170210-175.html']\n",
      "175\n",
      "                                                 Liens\n",
      "0    https://www.cdiscount.com/maison/lampes/spots/...\n",
      "1    https://www.cdiscount.com/maison/lampes/spots/...\n",
      "2    https://www.cdiscount.com/maison/lampes/spots/...\n",
      "3    https://www.cdiscount.com/maison/lampes/spots/...\n",
      "4    https://www.cdiscount.com/maison/lampes/spots/...\n",
      "5    https://www.cdiscount.com/maison/lampes/spots/...\n",
      "6    https://www.cdiscount.com/maison/lampes/spots/...\n",
      "7    https://www.cdiscount.com/maison/lampes/spots/...\n",
      "8    https://www.cdiscount.com/maison/lampes/spots/...\n",
      "9    https://www.cdiscount.com/maison/lampes/spots/...\n",
      "10   https://www.cdiscount.com/maison/lampes/spots/...\n",
      "11   https://www.cdiscount.com/maison/lampes/spots/...\n",
      "12   https://www.cdiscount.com/maison/lampes/spots/...\n",
      "13   https://www.cdiscount.com/maison/lampes/spots/...\n",
      "14   https://www.cdiscount.com/maison/lampes/spots/...\n",
      "15   https://www.cdiscount.com/maison/lampes/spots/...\n",
      "16   https://www.cdiscount.com/maison/lampes/spots/...\n",
      "17   https://www.cdiscount.com/maison/lampes/spots/...\n",
      "18   https://www.cdiscount.com/maison/lampes/spots/...\n",
      "19   https://www.cdiscount.com/maison/lampes/spots/...\n",
      "20   https://www.cdiscount.com/maison/lampes/spots/...\n",
      "21   https://www.cdiscount.com/maison/lampes/spots/...\n",
      "22   https://www.cdiscount.com/maison/lampes/spots/...\n",
      "23   https://www.cdiscount.com/maison/lampes/spots/...\n",
      "24   https://www.cdiscount.com/maison/lampes/spots/...\n",
      "25   https://www.cdiscount.com/maison/lampes/spots/...\n",
      "26   https://www.cdiscount.com/maison/lampes/spots/...\n",
      "27   https://www.cdiscount.com/maison/lampes/spots/...\n",
      "28   https://www.cdiscount.com/maison/lampes/spots/...\n",
      "29   https://www.cdiscount.com/maison/lampes/spots/...\n",
      "..                                                 ...\n",
      "145  https://www.cdiscount.com/maison/lampes/spots/...\n",
      "146  https://www.cdiscount.com/maison/lampes/spots/...\n",
      "147  https://www.cdiscount.com/maison/lampes/spots/...\n",
      "148  https://www.cdiscount.com/maison/lampes/spots/...\n",
      "149  https://www.cdiscount.com/maison/lampes/spots/...\n",
      "150  https://www.cdiscount.com/maison/lampes/spots/...\n",
      "151  https://www.cdiscount.com/maison/lampes/spots/...\n",
      "152  https://www.cdiscount.com/maison/lampes/spots/...\n",
      "153  https://www.cdiscount.com/maison/lampes/spots/...\n",
      "154  https://www.cdiscount.com/maison/lampes/spots/...\n",
      "155  https://www.cdiscount.com/maison/lampes/spots/...\n",
      "156  https://www.cdiscount.com/maison/lampes/spots/...\n",
      "157  https://www.cdiscount.com/maison/lampes/spots/...\n",
      "158  https://www.cdiscount.com/maison/lampes/spots/...\n",
      "159  https://www.cdiscount.com/maison/lampes/spots/...\n",
      "160  https://www.cdiscount.com/maison/lampes/spots/...\n",
      "161  https://www.cdiscount.com/maison/lampes/spots/...\n",
      "162  https://www.cdiscount.com/maison/lampes/spots/...\n",
      "163  https://www.cdiscount.com/maison/lampes/spots/...\n",
      "164  https://www.cdiscount.com/maison/lampes/spots/...\n",
      "165  https://www.cdiscount.com/maison/lampes/spots/...\n",
      "166  https://www.cdiscount.com/maison/lampes/spots/...\n",
      "167  https://www.cdiscount.com/maison/lampes/spots/...\n",
      "168  https://www.cdiscount.com/maison/lampes/spots/...\n",
      "169  https://www.cdiscount.com/maison/lampes/spots/...\n",
      "170  https://www.cdiscount.com/maison/lampes/spots/...\n",
      "171  https://www.cdiscount.com/maison/lampes/spots/...\n",
      "172  https://www.cdiscount.com/maison/lampes/spots/...\n",
      "173  https://www.cdiscount.com/maison/lampes/spots/...\n",
      "174  https://www.cdiscount.com/maison/lampes/spots/...\n",
      "\n",
      "[175 rows x 1 columns]\n"
     ]
    }
   ],
   "source": [
    "#class=\"btBlue jsNxtPage\"\n",
    "tableau=[],[]\n",
    "liste_liens= []\n",
    "lien_page_suivante = soup.select(\"a[class=\\\"btBlue jsNxtPage\\\"]\")\n",
    "print(lien_page_suivante)\n",
    "for link in lien_page_suivante:\n",
    "    lien = link.get(\"href\")\n",
    "    print(lien)\n",
    "\n",
    "    \n",
    "print(tableau)\n",
    "\n",
    "\n",
    "lien = lien[0:31] + \"{}\" + lien[32:len(lien)]\n",
    "lien2 = \"https://www.cdiscount.com\" + lien\n",
    "\n",
    "\n",
    "for i in range(nb_pages):\n",
    "    lien_final = lien2.format(i+1)\n",
    "    liste_liens.append(lien_final)\n",
    "    tableau[0].append(liste_liens[i])\n",
    "print(tableau[0])\n",
    "    \n",
    "\n",
    "tab=np.array([tableau[0]])\n",
    "print(len(tableau[0]))\n",
    "df=pd.DataFrame(tab, index= ['Liens'])\n",
    "dft = pd.DataFrame.transpose(df)\n",
    "\n",
    "print(dft)\n",
    "export_csv = dft.to_csv(r'Liens_pages.csv', index=None)\n",
    "                    \n",
    "\n"
   ]
  },
  {
   "cell_type": "markdown",
   "metadata": {},
   "source": []
  }
 ],
 "metadata": {
  "kernelspec": {
   "display_name": "Python 3",
   "language": "python",
   "name": "python3"
  },
  "language_info": {
   "codemirror_mode": {
    "name": "ipython",
    "version": 3
   },
   "file_extension": ".py",
   "mimetype": "text/x-python",
   "name": "python",
   "nbconvert_exporter": "python",
   "pygments_lexer": "ipython3",
   "version": "3.7.7"
  }
 },
 "nbformat": 4,
 "nbformat_minor": 4
}
